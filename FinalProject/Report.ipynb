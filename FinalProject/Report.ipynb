{
 "cells": [
  {
   "cell_type": "markdown",
   "metadata": {},
   "source": [
    "# Living in the City of Eindhoven"
   ]
  },
  {
   "cell_type": "markdown",
   "metadata": {},
   "source": [
    "Capstone project by Peter van Liesdonk"
   ]
  },
  {
   "cell_type": "markdown",
   "metadata": {},
   "source": [
    "## Introduction"
   ]
  },
  {
   "cell_type": "markdown",
   "metadata": {},
   "source": [
    "For the last few years I have been living in the city of Eindhoven, a small provincial town in the south of the Netherland and mostly known\n",
    "for its high tech industries. For this reason it is sometimes called Silicon Valley of the Netherlands.\n",
    "I like living here, and I'm living in a great neighbourhood. Unfortunately I cannot stay here: I'm currently residing in a social housing\n",
    "project, and I'm getting too rich to stay here. I know: luxury problem.\n",
    "\n",
    "So where in this city will I buy a new house? \n",
    "\n",
    "To figure this out I want to compare the various neighbourhoods in Eindhoven to see how similar they are, and finally figure out if there is a neighbourhood similar to mine where I could also live.\n",
    "I will do this based on the different venues and ammenities available in the direct vicinity of the various neighbourhoods.\n",
    "\n",
    "As in the course, I'd like to cluster neighbourhoods on similarity and show them on a map. Then I'd also like to create a decision tree that can show me the most important factors for choosing a certain neighbourhood."
   ]
  },
  {
   "cell_type": "markdown",
   "metadata": {},
   "source": [
    "## Data"
   ]
  },
  {
   "cell_type": "markdown",
   "metadata": {},
   "source": [
    "To know more about Eindhoven I need as much data as possible. I found the following interesting datasets:\n",
    "\n",
    "* A list of neighbourhoods in Eindhoven at [https://data.eindhoven.nl/explore/dataset/buurten/export/]. This includes\n",
    "  * Name of neighbourhood (buurt), residential areas (wijken) and boroughs (stadsdeel) within Eindhoven,\n",
    "  * their geographic coordinates,\n",
    "  * their borders in GeoJSON format. \n",
    "* A table of key figures about the various neighbourhoods [https://opendata.cbs.nl/statline/#/CBS/nl/dataset/84286NED/table?ts=1546775064672], which includes things like\n",
    "  * population,\n",
    "  * population density, \n",
    "  * area,\n",
    "  * amount of house\n",
    "\n",
    "In addition I will use Foursquare to find popular venues close to each of the neighbourhoods. Using Foursquare might mean that I do not actually need the last of the tables above.  Another difficulty might be the sparsity of information on Foursquare, since Foursquare is not very popular in the Netherlands.\n"
   ]
  },
  {
   "cell_type": "markdown",
   "metadata": {},
   "source": [
    "## Methodology\n"
   ]
  },
  {
   "cell_type": "markdown",
   "metadata": {},
   "source": [
    "### Exploring the dataset"
   ]
  },
  {
   "cell_type": "markdown",
   "metadata": {},
   "source": [
    "We start by importing the first dataset, a list of neighbourhoods and their geographic position from [https://data.eindhoven.nl/explore/dataset/buurten/export/]. After importing in Pandas and cleaning up some of the column names we get a dataset that looks as follows:\n",
    "\n",
    "<img src=\"figs/buurten.png\"/>"
   ]
  },
  {
   "cell_type": "markdown",
   "metadata": {},
   "source": [
    "Imporing the key figures dataset from [https://opendata.cbs.nl/statline/#/CBS/nl/dataset/84286NED/table?ts=1546775064672] gives us the following columns.\n",
    "\n",
    "`['Wijken en buurten', 'Gemeentenaam', 'Soort regio', 'Codering',\n",
    "       'Indelingswijziging wijken en buurten', 'Inwoners',\n",
    "       'Inwoners 15 tot 25 jaar', 'Inwoners Westers totaal',\n",
    "       'Inwoners Nederlandse Antillen en Aruba', 'Eenpersoonshuishoudens',\n",
    "       'Bevolkingsdichtheid', 'Woningvoorraad', 'Percentage meergezinswoning',\n",
    "       'Personenauto's; brandstof benzine', 'Motorfietsen', 'Oppervlakte',\n",
    "       'Mate van stedelijkheid', 'Omgevingsadressendichtheid'] `\n",
    "       \n",
    "This requires some more cleanup. \n",
    "\n",
    "First of all we only want neighbourhoods (wijken) while this dataset also has aggregated information. This can be done by filtering on the 'Soort Regio' column.\n",
    "\n",
    "Secondly, not all data is relevant. We decide to filter only the following columns, since they seem to be the most relevant to the problem at hand:\n",
    "\n",
    "* Wijken en buurten:  the neighbourhood name\n",
    "* Bevolkingsdichtheid: population density.\n",
    "* Mate van stedelijkheid: Urbanization, how city-like is the neighbourhood\n",
    "* Omgevingsadressendichtheid: How many addresses per square km\n",
    "\n",
    "After cleanup we get the following results that still gave NaN values:\n",
    "\n",
    "<img src=\"figs/nans.png\"/>\n",
    "\n",
    "We know all of these are industrial areas, and replace the NaNs with 0.\n",
    "When we merge with the previous dataset, we get the following result:\n",
    "\n",
    "<img src=\"figs/kerncijfers.png\"/>"
   ]
  },
  {
   "cell_type": "markdown",
   "metadata": {},
   "source": [
    "### Putting Eindhoven on a map"
   ]
  },
  {
   "cell_type": "markdown",
   "metadata": {},
   "source": [
    "We can now compile a simple map that shows the different neighbourhoods in a Choropeth map, showing the population density.\n",
    "\n",
    "<img src=\"figs/choropleth.png\"/>"
   ]
  },
  {
   "cell_type": "markdown",
   "metadata": {},
   "source": [
    "### Venues from Foursquare"
   ]
  },
  {
   "cell_type": "markdown",
   "metadata": {},
   "source": [
    "Next, we want to get a list of interesting venues from Foursquare.\n",
    "We want to figure out the venues in each neighbourhood. \n",
    "This is difficult, as Foursquare allows us to search around around specific coordinates with no option of restricting to a neighbourhood.\n",
    "\n",
    "We solve this as follows: using the coordinates and the geometric shape we can find the smallest circle that completely surrounds the neighbourhood. We will use the radius of this circle to restrict the Foursquare searches.\n",
    "\n",
    "In addition, Foursquare gives us too many different venue categories. We generalize every category to one of 10 main categories.\n",
    "\n",
    "This gives us a dataframe of venues as follows. This frame contains many duplicates, which are venues that fall within the readius of multiple neighbourhoods.\n",
    "\n",
    "<img src=\"figs/venues.png\"/>\n",
    "\n",
    "We can put all the found venues on the map as follows:\n",
    "\n",
    "<img src=\"figs/allvenues.png\"/>"
   ]
  },
  {
   "cell_type": "markdown",
   "metadata": {},
   "source": [
    "### Clustering neighbourhoods"
   ]
  },
  {
   "cell_type": "markdown",
   "metadata": {},
   "source": [
    "Next, we want to cluster all of the neighbourhoods. We will be using a K-means clustering algorithm.\n",
    "In order to do this, we first turn the venues dataframe into one-hot notation and sum how often each venue occurs for each neighbourhood. To this we add population density, urbanization and housing density figures.\n",
    "\n",
    "To find an optimal value for $k$, we run the clustering algorithm for various values and plot the silhouette score.\n",
    "\n",
    "<img src=\"figs/kmeans.png\"/>\n",
    "\n",
    "We immediately see there is no clear choice for $k$. Choosing $k=2$ (the maximum) doesn't give any real insight. We decide to go for $k=10$, which is a local optimum and might provide interesting insights.\n",
    "\n",
    "This results in the following clustering:\n",
    "\n",
    "<img src=\"figs/clustermap.png\"/>"
   ]
  },
  {
   "cell_type": "markdown",
   "metadata": {},
   "source": [
    "### Decision Tree"
   ]
  },
  {
   "cell_type": "markdown",
   "metadata": {},
   "source": [
    "Finally we want to build a decision tree in order to figure in which type of neighbourhood I should live.\n",
    "\n",
    "We train a decision tree using the existence of certain venues as training data in order to predict the cluster labels we found above.\n",
    "This gives the following result:\n",
    "\n",
    "<img src=\"figs/decision.svg\"/>"
   ]
  },
  {
   "cell_type": "markdown",
   "metadata": {},
   "source": [
    "## Results"
   ]
  },
  {
   "cell_type": "markdown",
   "metadata": {},
   "source": [
    "When we analyze the results of the clustering, we get the following results:\n",
    "\n",
    "Cluster | Count | Neighbourhoods\n",
    "--------|-------|---------------\n",
    "0 | 14 | Riel, BeA2, Urkhoven, Bokt, Bosrijk, Karpen, Wielewaal, Herdgang, Park Forum, Eindhoven Airport, Koudenhoven, Kerkdorp Acht, Eckartdal, Castiliëlaan\n",
    "1 | 8 | Woensel-West, Eliasterrein, Vonderkwartier, Joriskwartier, Kronehoef, Gerardusplein, Generalenbuurt, Limbeek-Noord, Rochusbuurt\n",
    "2 | 11 | Prinsejagt, Jagershoef, Tempel, Doornakkers-West, Oude Gracht-West, Gijzenrooi, Woenselse Heide, Eckart, Doornakkers-Oost, Rapenland, Muschberg, Geestenberg\n",
    "3 | 10 | Poeijers, Mispelhoef, Hurk, Kapelbeemd, Esp, Beemden, Flight Forum, Hondsheuvels, Vredeoord, Eikenburg\n",
    "4 | 1 | Binnenstad\n",
    "5 | 23 | Genderbeemd, Lievendaal, 't Hofke, Hanevoet, Bennekel-West, Gagelbosch, Achtse Barrier-Hoeven, Rapelenburg, Elzent-Zuid, Grasrijk, Achtse Barrier-Spaaihoef, Achtse Barrier-Gunterslaer, Het Ven, Heesterakker, Drents Dorp, Oude Gracht-Oost, Bennekel-Oost, Vaartbroek, Blixembosch-Oost, Lakerlopen, Zandrijk, Engelsbergen, Genneperzijde, Villapark\n",
    "6 | 1 | Looiakkers\n",
    "7 | 1 | Burghplan\n",
    "8 | 4 | Winkelcentrum, Nieuwe Erven, Hemelrijken, Kerstroosplein\n",
    "9 | 22 | Schoot, Strijp S, Kruidenbuurt, Sintenbuurt, Irisbuurt, Schouwbroek, Mensfort, Philipsdorp, Blaarthem, 't Hool, Hagenkamp, Oude Toren, Barrier, Vlokhoven, Limbeek-Zuid, Tivoli, Bloemenplein, Oude Spoorbaan, Woenselse Watermolen, Genderdal, Schrijversbuurt, Gildebuurt\n",
    "10 | 1 | Witte Dame\n",
    "11 | 14 | Meerbos, Gennep, Luytelaer, Waterrijk, Meerrijk, Puttense Dreef, Zwaanstraat, Ooievaarsnest, Leenderheide, Roosten, Blixembosch-West, Tongelresche Akkers, Schuttersbosch, Driehoeksbos\n",
    "12 | 1 | TU-terrein\n",
    "13 | 1 | Bergen\n",
    "14 | 2 | Tuindorp, Elzent-Noord\n",
    "15 | 1 | Fellenoord\n",
    "16 | 1 | Sportpark Aalsterweg\n"
   ]
  },
  {
   "cell_type": "markdown",
   "metadata": {},
   "source": [
    "It is also interesting to see what the most distinguishing features are between neighbourhoods. We can distill this information from the decision tree we built:\n",
    "\n",
    "<img src=\"figs/important_features.png\"/>\n",
    "\n",
    "From this we can deduce that the biggest difference between clusters is the presence of entertainment and nightlife. It appears "
   ]
  },
  {
   "cell_type": "markdown",
   "metadata": {},
   "source": [
    "We also wanted to look how different each neighbourhood is from my current neighbourhood Prinsejagt. We used the same data as input into the clustering algorithm, but now just look at the difference from Prinsejagt.\n",
    "\n",
    "<img src=\"figs/prinsejagt.png\"/>\n",
    "\n",
    "We can sort the neighbourhoods by their distance:\n",
    "\n",
    "Rank | Neighbourhood | Distance\n",
    "-----|---------------|---------\n",
    "1 | Prinsejagt | 0.00\n",
    "2 | Gerardusplein | 0.97\n",
    "3 | Muschberg, Geestenberg | 1.13\n",
    "4 | Burghplan | 1.15\n",
    "5 | Koudenhoven | 1.17"
   ]
  },
  {
   "cell_type": "markdown",
   "metadata": {},
   "source": [
    "Finally, let's correlate these neighbourhoods with the most distinguishing features.\n",
    "\n",
    "<img src=\"figs/options.png\"/>"
   ]
  },
  {
   "cell_type": "markdown",
   "metadata": {},
   "source": [
    "## Discussion"
   ]
  },
  {
   "cell_type": "markdown",
   "metadata": {},
   "source": [
    "Discussion section where you discuss any observations you noted and any recommendations you can make based on the results.\n",
    "\n",
    "There are some obvious clusters in here, based on my subjective experience:  \n",
    "\n",
    "* Cluster 0 contains lots of industrial neighbourhoods with little people living there\n",
    "* The clusters with only one neighbourhood all indicate a quite special neighbourhood, easily distinguished.\n",
    "* Clusters 1, 2, 3, 5 and 7 consists of neighbourhoods with lot of houses\n",
    "* Cluster 3 contains shops\n",
    "* Cluster 8 is a university campus\n",
    "* Cluster 9 has a almost no buildings"
   ]
  },
  {
   "cell_type": "markdown",
   "metadata": {},
   "source": [
    "Second obvious thing we notice is how the ranking of distance to Prinsejagt differs from the clustering, even though they cover four different clusters. This is due to the different distance mechanisms: K-means optimizes in-cluster inertia, which apparently gives different results from regular euclidean distance."
   ]
  },
  {
   "cell_type": "markdown",
   "metadata": {},
   "source": [
    "Finally we took a closer look at the amount of distinguishing features for each of the neighbourhoods closest to Prinsejagt.\n",
    "This seems to indicate that there is still quite a difference between these neighbourhoods."
   ]
  },
  {
   "cell_type": "markdown",
   "metadata": {
    "toc-hr-collapsed": true
   },
   "source": [
    "## Conclusion"
   ]
  },
  {
   "cell_type": "markdown",
   "metadata": {},
   "source": [
    "The analysis above indicates that the neighbourhoods of Gerardusplein, Muschberg/Geestenberg, Burghplan or Koudenhoven are alternatives to Prinsejagt. Each of these is worth visiting an checking out.\n",
    "\n",
    "The data also seems to indicate that Burghplan is better connected, with better nightlife spots. This makes Burghplan my first option to look for new housing."
   ]
  },
  {
   "cell_type": "markdown",
   "metadata": {},
   "source": [
    "    Buurtcode                                                       232\n",
    "    Buurtnaam                                                 Burghplan\n",
    "    Wijkcode                                                         23\n",
    "    Wijknaam                                                     Putten\n",
    "    Stadsdeelcode                                                     2\n",
    "    Stadsdeelnaam                                               Stratum\n",
    "    Latitude                                                    51.4278\n",
    "    Longitude                                                   5.50693\n",
    "    Geo_shape         {'type': 'Polygon', 'coordinates': [[[5.513998...\n",
    "    Dichtheid                                                      6100\n",
    "    Stedelijkheid                                                     2\n",
    "    Adresdichtheid                                                 2181\n",
    "    Common Venue 1                          Professional & Other Places\n",
    "    Common Venue 2                                       Shop & Service\n",
    "    Common Venue 3                                Outdoors & Recreation\n",
    "    Common Venue 4                                   Travel & Transport\n",
    "    Common Venue 5                                       Nightlife Spot\n",
    "    Cluster label                                                     7\n",
    "    d_prinsejagt                                                1.14696\n",
    "    Name: 53, dtype: object"
   ]
  },
  {
   "cell_type": "markdown",
   "metadata": {},
   "source": [
    "<img src=\"figs/finalchoice.png\"/>"
   ]
  },
  {
   "cell_type": "code",
   "execution_count": null,
   "metadata": {},
   "outputs": [],
   "source": []
  }
 ],
 "metadata": {
  "kernelspec": {
   "display_name": "Python 3",
   "language": "python",
   "name": "python3"
  },
  "language_info": {
   "codemirror_mode": {
    "name": "ipython",
    "version": 3
   },
   "file_extension": ".py",
   "mimetype": "text/x-python",
   "name": "python",
   "nbconvert_exporter": "python",
   "pygments_lexer": "ipython3",
   "version": "3.6.7"
  },
  "toc-autonumbering": true
 },
 "nbformat": 4,
 "nbformat_minor": 2
}
